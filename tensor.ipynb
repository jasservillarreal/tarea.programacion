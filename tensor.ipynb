{
 "cells": [
  {
   "cell_type": "code",
   "execution_count": null,
   "id": "f83507c5-3aa0-4a03-acb6-a2ffd426f31f",
   "metadata": {},
   "outputs": [],
   "source": [
    "\" Conversión de Grados a Radianes con Redes Neuronales\""
   ]
  },
  {
   "cell_type": "code",
   "execution_count": null,
   "id": "fe76c28d-62a0-4429-bb85-d1a60ede489c",
   "metadata": {},
   "outputs": [],
   "source": []
  },
  {
   "cell_type": "code",
   "execution_count": 1,
   "id": "20fdc54e-60a6-44ae-95cb-d34c6cbf4521",
   "metadata": {},
   "outputs": [
    {
     "name": "stdout",
     "output_type": "stream",
     "text": [
      "180 grados son 3.141592653589793 en radianes.\n"
     ]
    }
   ],
   "source": [
    "import math\n",
    "\n",
    "grados = 180\n",
    "radianes = grados * math.pi / 180\n",
    "print(f\"{grados} grados son {radianes} en radianes.\")"
   ]
  },
  {
   "cell_type": "code",
   "execution_count": null,
   "id": "78163623-1548-44c1-ad0c-2bfb835f9e8c",
   "metadata": {},
   "outputs": [],
   "source": [
    "#Importar las bibliotecas necesarias"
   ]
  },
  {
   "cell_type": "code",
   "execution_count": 2,
   "id": "53fcaefb-5265-4701-bfad-046ba957d511",
   "metadata": {},
   "outputs": [
    {
     "name": "stdout",
     "output_type": "stream",
     "text": [
      "WARNING:tensorflow:From C:\\Users\\jasser villarreal\\miniconda3\\Lib\\site-packages\\keras\\src\\losses.py:2976: The name tf.losses.sparse_softmax_cross_entropy is deprecated. Please use tf.compat.v1.losses.sparse_softmax_cross_entropy instead.\n",
      "\n"
     ]
    }
   ],
   "source": [
    "import tensorflow as tf\n",
    "import numpy as np\n",
    "import matplotlib.pyplot as plt"
   ]
  },
  {
   "cell_type": "code",
   "execution_count": null,
   "id": "129852cd-5b4e-47f8-9b36-bb5fcd04c3ef",
   "metadata": {},
   "outputs": [],
   "source": [
    "#Crear un conjunto de datos de entrenamiento"
   ]
  },
  {
   "cell_type": "code",
   "execution_count": 4,
   "id": "6c3786a3-dc14-491e-b40d-4bb630cc8687",
   "metadata": {},
   "outputs": [],
   "source": [
    "grados = tf.constant(np.linspace(0, 360, 1000))\n",
    "radianes = tf.multiply(grados, np.pi / 180.0)\n"
   ]
  },
  {
   "cell_type": "code",
   "execution_count": null,
   "id": "beae824e-c56a-418c-85f6-2b8cda1f0518",
   "metadata": {},
   "outputs": [],
   "source": [
    "#Crear un modelo simple de aprendizaje automatico\n",
    "\n"
   ]
  },
  {
   "cell_type": "code",
   "execution_count": 8,
   "id": "4544a030-48cf-4c3b-830f-3cac9fab78ce",
   "metadata": {},
   "outputs": [],
   "source": [
    "model = tf.keras.models.Sequential([\n",
    "    tf.keras.layers.Dense(1, input_shape=[1])\n",
    "])"
   ]
  },
  {
   "cell_type": "code",
   "execution_count": null,
   "id": "300d7bb2-8f12-4d79-98a5-9bafe898d353",
   "metadata": {},
   "outputs": [],
   "source": [
    "#Compilar el modelo"
   ]
  },
  {
   "cell_type": "code",
   "execution_count": 9,
   "id": "e7842528-6455-4c97-8b2e-08b8a0791954",
   "metadata": {},
   "outputs": [],
   "source": [
    "model.compile(optimizer='adam', loss='mean_squared_error')\n"
   ]
  },
  {
   "cell_type": "code",
   "execution_count": null,
   "id": "fe2c7050-2700-4121-b92b-adb0f099fd1f",
   "metadata": {},
   "outputs": [],
   "source": [
    "#Predecir un nuevo valor antes del entrenamiento"
   ]
  },
  {
   "cell_type": "code",
   "execution_count": 10,
   "id": "45304ec2-afe1-4676-a06c-fc5d6b3de3ce",
   "metadata": {},
   "outputs": [
    {
     "name": "stdout",
     "output_type": "stream",
     "text": [
      "1/1 [==============================] - 0s 489ms/step\n",
      "Antes del entrenamiento: 180.0 grados es igual a 269.8702392578125 radianes según el modelo.\n"
     ]
    }
   ],
   "source": [
    "nuevo_grado = tf.constant([180.0])\n",
    "nuevo_radian = model.predict(nuevo_grado)\n",
    "print(f\"Antes del entrenamiento: {nuevo_grado.numpy()[0]} grados es igual a {nuevo_radian[0][0]} radianes según el modelo.\")\n"
   ]
  },
  {
   "cell_type": "code",
   "execution_count": 13,
   "id": "ca8346cb-07e4-45f8-9a17-1d86a4a5af90",
   "metadata": {},
   "outputs": [],
   "source": [
    "#Entrenar el modelo"
   ]
  },
  {
   "cell_type": "code",
   "execution_count": 14,
   "id": "384ff400-f66e-4b68-9a6b-6acb1211050d",
   "metadata": {},
   "outputs": [
    {
     "name": "stdout",
     "output_type": "stream",
     "text": [
      "comenzando entreanamiento...\n",
      "Epoch 1/60\n",
      "32/32 [==============================] - 0s 4ms/step - loss: 9751.7354\n",
      "Epoch 2/60\n",
      "32/32 [==============================] - 0s 2ms/step - loss: 9054.8213\n",
      "Epoch 3/60\n",
      "32/32 [==============================] - 0s 3ms/step - loss: 8396.3994\n",
      "Epoch 4/60\n",
      "32/32 [==============================] - 0s 2ms/step - loss: 7776.2852\n",
      "Epoch 5/60\n",
      "32/32 [==============================] - 0s 3ms/step - loss: 7196.7114\n",
      "Epoch 6/60\n",
      "32/32 [==============================] - 0s 3ms/step - loss: 6644.2803\n",
      "Epoch 7/60\n",
      "32/32 [==============================] - 0s 3ms/step - loss: 6136.1455\n",
      "Epoch 8/60\n",
      "32/32 [==============================] - 0s 3ms/step - loss: 5658.6875\n",
      "Epoch 9/60\n",
      "32/32 [==============================] - 0s 2ms/step - loss: 5211.2212\n",
      "Epoch 10/60\n",
      "32/32 [==============================] - 0s 3ms/step - loss: 4787.9136\n",
      "Epoch 11/60\n",
      "32/32 [==============================] - 0s 4ms/step - loss: 4391.3359\n",
      "Epoch 12/60\n",
      "32/32 [==============================] - 0s 3ms/step - loss: 4025.3979\n",
      "Epoch 13/60\n",
      "32/32 [==============================] - 0s 4ms/step - loss: 3682.4507\n",
      "Epoch 14/60\n",
      "32/32 [==============================] - 0s 3ms/step - loss: 3365.7798\n",
      "Epoch 15/60\n",
      "32/32 [==============================] - 0s 3ms/step - loss: 3070.9126\n",
      "Epoch 16/60\n",
      "32/32 [==============================] - 0s 3ms/step - loss: 2800.5891\n",
      "Epoch 17/60\n",
      "32/32 [==============================] - 0s 3ms/step - loss: 2546.6313\n",
      "Epoch 18/60\n",
      "32/32 [==============================] - 0s 3ms/step - loss: 2313.9287\n",
      "Epoch 19/60\n",
      "32/32 [==============================] - 0s 4ms/step - loss: 2097.3354\n",
      "Epoch 20/60\n",
      "32/32 [==============================] - 0s 3ms/step - loss: 1898.9321\n",
      "Epoch 21/60\n",
      "32/32 [==============================] - 0s 3ms/step - loss: 1717.2482\n",
      "Epoch 22/60\n",
      "32/32 [==============================] - 0s 3ms/step - loss: 1547.8794\n",
      "Epoch 23/60\n",
      "32/32 [==============================] - 0s 3ms/step - loss: 1397.1936\n",
      "Epoch 24/60\n",
      "32/32 [==============================] - 0s 3ms/step - loss: 1257.0831\n",
      "Epoch 25/60\n",
      "32/32 [==============================] - 0s 2ms/step - loss: 1128.7863\n",
      "Epoch 26/60\n",
      "32/32 [==============================] - 0s 3ms/step - loss: 1010.5229\n",
      "Epoch 27/60\n",
      "32/32 [==============================] - 0s 3ms/step - loss: 902.5054\n",
      "Epoch 28/60\n",
      "32/32 [==============================] - 0s 2ms/step - loss: 804.9100\n",
      "Epoch 29/60\n",
      "32/32 [==============================] - 0s 3ms/step - loss: 716.4922\n",
      "Epoch 30/60\n",
      "32/32 [==============================] - 0s 4ms/step - loss: 637.2309\n",
      "Epoch 31/60\n",
      "32/32 [==============================] - 0s 5ms/step - loss: 565.1449\n",
      "Epoch 32/60\n",
      "32/32 [==============================] - 0s 3ms/step - loss: 500.1212\n",
      "Epoch 33/60\n",
      "32/32 [==============================] - 0s 3ms/step - loss: 441.3537\n",
      "Epoch 34/60\n",
      "32/32 [==============================] - 0s 3ms/step - loss: 388.2032\n",
      "Epoch 35/60\n",
      "32/32 [==============================] - 0s 3ms/step - loss: 340.6361\n",
      "Epoch 36/60\n",
      "32/32 [==============================] - 0s 3ms/step - loss: 298.5768\n",
      "Epoch 37/60\n",
      "32/32 [==============================] - 0s 3ms/step - loss: 261.6522\n",
      "Epoch 38/60\n",
      "32/32 [==============================] - 0s 3ms/step - loss: 228.0313\n",
      "Epoch 39/60\n",
      "32/32 [==============================] - 0s 3ms/step - loss: 198.8872\n",
      "Epoch 40/60\n",
      "32/32 [==============================] - 0s 3ms/step - loss: 172.8036\n",
      "Epoch 41/60\n",
      "32/32 [==============================] - 0s 3ms/step - loss: 149.6185\n",
      "Epoch 42/60\n",
      "32/32 [==============================] - 0s 4ms/step - loss: 129.4226\n",
      "Epoch 43/60\n",
      "32/32 [==============================] - 0s 3ms/step - loss: 111.5275\n",
      "Epoch 44/60\n",
      "32/32 [==============================] - 0s 3ms/step - loss: 96.1359\n",
      "Epoch 45/60\n",
      "32/32 [==============================] - 0s 3ms/step - loss: 82.4799\n",
      "Epoch 46/60\n",
      "32/32 [==============================] - 0s 3ms/step - loss: 70.6700\n",
      "Epoch 47/60\n",
      "32/32 [==============================] - 0s 3ms/step - loss: 60.4256\n",
      "Epoch 48/60\n",
      "32/32 [==============================] - 0s 3ms/step - loss: 51.5100\n",
      "Epoch 49/60\n",
      "32/32 [==============================] - 0s 3ms/step - loss: 43.7657\n",
      "Epoch 50/60\n",
      "32/32 [==============================] - 0s 4ms/step - loss: 37.1504\n",
      "Epoch 51/60\n",
      "32/32 [==============================] - 0s 5ms/step - loss: 31.4322\n",
      "Epoch 52/60\n",
      "32/32 [==============================] - 0s 4ms/step - loss: 26.5592\n",
      "Epoch 53/60\n",
      "32/32 [==============================] - 0s 3ms/step - loss: 22.3642\n",
      "Epoch 54/60\n",
      "32/32 [==============================] - 0s 2ms/step - loss: 18.7766\n",
      "Epoch 55/60\n",
      "32/32 [==============================] - 0s 2ms/step - loss: 15.7498\n",
      "Epoch 56/60\n",
      "32/32 [==============================] - 0s 3ms/step - loss: 13.1930\n",
      "Epoch 57/60\n",
      "32/32 [==============================] - 0s 2ms/step - loss: 11.0384\n",
      "Epoch 58/60\n",
      "32/32 [==============================] - 0s 2ms/step - loss: 9.2322\n",
      "Epoch 59/60\n",
      "32/32 [==============================] - 0s 2ms/step - loss: 7.7062\n",
      "Epoch 60/60\n",
      "32/32 [==============================] - 0s 2ms/step - loss: 6.4174\n"
     ]
    }
   ],
   "source": [
    "print(\"comenzando entreanamiento...\")\n",
    "history = model.fit(grados, radianes, epochs=60)"
   ]
  },
  {
   "cell_type": "code",
   "execution_count": null,
   "id": "b106d178-1867-448d-9db4-cc6c3362ac3d",
   "metadata": {},
   "outputs": [],
   "source": [
    "\n",
    "\n",
    "#Graficar el error de entrenamiento"
   ]
  },
  {
   "cell_type": "code",
   "execution_count": 15,
   "id": "d2d28ed0-d2be-4fef-bfd1-9cede16a76b4",
   "metadata": {},
   "outputs": [
    {
     "data": {
      "image/png": "[encoded data removed]",
      "text/plain": [
       "<Figure size 600x400 with 1 Axes>"
      ]
     },
     "metadata": {},
     "output_type": "display_data"
    }
   ],
   "source": [
    "plt.figure(figsize=(6, 4))\n",
    "plt.plot(history.history['loss'])\n",
    "plt.title('Error de entrenamiento')\n",
    "plt.xlabel('Época')\n",
    "plt.ylabel('Error')\n",
    "plt.grid(True)\n",
    "plt.show()\n"
   ]
  },
  {
   "cell_type": "code",
   "execution_count": null,
   "id": "919ba521-fdfa-47ec-9c0c-cffb267291f1",
   "metadata": {},
   "outputs": [],
   "source": [
    "#Predecir el mismo valor después del entrenamiento"
   ]
  },
  {
   "cell_type": "code",
   "execution_count": 16,
   "id": "15521aaf-a315-41cc-9446-e4ff14baefc6",
   "metadata": {},
   "outputs": [
    {
     "name": "stdout",
     "output_type": "stream",
     "text": [
      "1/1 [==============================] - 0s 105ms/step\n",
      "Después del entrenamiento: 180.0 grados es igual a 4.763402938842773 radianes según el modelo.\n"
     ]
    }
   ],
   "source": [
    "nuevo_grado = tf.constant([180.0]) \n",
    "nuevo_radian = model.predict(nuevo_grado)\n",
    "\n",
    "print(f\"Después del entrenamiento: {nuevo_grado.numpy()[0]} grados es igual a {nuevo_radian[0][0]} radianes según el modelo.\")\n",
    "\n"
   ]
  },
  {
   "cell_type": "code",
   "execution_count": 18,
   "id": "90eadf27-1ffe-4e68-b754-829c0b2cf3d3",
   "metadata": {},
   "outputs": [
    {
     "name": "stdout",
     "output_type": "stream",
     "text": [
      "variables internas del modelo\n",
      "[array([[0.03462117]], dtype=float32), array([-1.468408], dtype=float32)]\n"
     ]
    }
   ],
   "source": [
    "print(\"variables internas del modelo\")\n",
    "print(model.get_weights())\n"
   ]
  },
  {
   "cell_type": "code",
   "execution_count": 38,
   "id": "99f7227b-919f-4dcc-9f57-8abe32873f2d",
   "metadata": {},
   "outputs": [
    {
     "data": {
      "text/plain": [
       "3.0640827"
      ]
     },
     "execution_count": 38,
     "metadata": {},
     "output_type": "execute_result"
    }
   ],
   "source": [
    "180*0.01875071+-0.3110451\n"
   ]
  }
 ],
 "metadata": {
  "kernelspec": {
   "display_name": "Python 3 (ipykernel)",
   "language": "python",
   "name": "python3"
  },
  "language_info": {
   "codemirror_mode": {
    "name": "ipython",
    "version": 3
   },
   "file_extension": ".py",
   "mimetype": "text/x-python",
   "name": "python",
   "nbconvert_exporter": "python",
   "pygments_lexer": "ipython3",
   "version": "3.11.5"
  }
 },
 "nbformat": 4,
 "nbformat_minor": 5
}
